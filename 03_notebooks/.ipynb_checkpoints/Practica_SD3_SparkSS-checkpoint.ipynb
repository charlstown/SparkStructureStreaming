{
 "cells": [
  {
   "cell_type": "markdown",
   "metadata": {},
   "source": [
    "# PRÁCTICA SYSTEMAS DISTRIBUIDOS III <a class=\"anchor\" id=\"back\">\n",
    "<font color='#fb7813'>**KAFKA STREAMING + SPARK**</font>"
   ]
  },
  {
   "cell_type": "markdown",
   "metadata": {},
   "source": [
    "**Descripción:** este notebook tiene como objetivo leer los datos proporcionados en CSV mediante un productor que envíe los datos a una cola Kafka de nombre *test* con un retardovariable entre muestras insertadas de entre 0.6 y 1.3 segundos. Posteriormente, usando la API de *Spark Structured Streaming* con un intervalo de actualizacion de micro-batches (triggers) de 5 segundos se pide realizar 3 consultas.\n",
    "\n",
    "**Datos:** Los datos contienen información de un experimento para intentar predecir los tiempos de ocupación de una estancia, en función de los valores tomados por variables ambientales.los datos proporcionados están en formato CSV. El archivo occupancy_data.csv contiene 8.143 entradas, una para cada muestra recogida, a intervalos aproximadamente regulares de 1 minuto entre muestras. \n",
    "\n",
    "**Miembros del equipo:** Verónica Gómez, Carlos Grande y Pablo Olmos\n",
    "\n",
    "**GitHub URL:** https://github.com/charlstown/SparkStructureStreaming"
   ]
  },
  {
   "cell_type": "markdown",
   "metadata": {},
   "source": [
    "## Índice\n",
    "* [0. Instrucciones](#readme)\n",
    "* [1. Contexto y entorno de Spark](#context)\n",
    "* [2. Lectura de datos en batch](#batch)\n",
    "* [3. Conexión con Kafka](#kafka)\n",
    "* [4. Definición del Stream](#stream)\n",
    "* [5. Queries](#queries)\n",
    "---"
   ]
  },
  {
   "cell_type": "markdown",
   "metadata": {},
   "source": [
    "## Carga de librerías"
   ]
  },
  {
   "cell_type": "code",
   "execution_count": 1,
   "metadata": {},
   "outputs": [],
   "source": [
    "from time import sleep\n",
    "import sys, os\n",
    "from collections import OrderedDict\n",
    "\n",
    "# spark libraries\n",
    "from pyspark.sql import SparkSession\n",
    "from pyspark.sql.types import StructField, StructType, TimestampType, DoubleType,\\\n",
    "    IntegerType, StringType, ArrayType, BooleanType\n",
    "import pyspark.sql.functions as fn\n",
    "from pyspark.sql import Window"
   ]
  },
  {
   "cell_type": "markdown",
   "metadata": {},
   "source": [
    "## Carga de scripts"
   ]
  },
  {
   "cell_type": "code",
   "execution_count": 2,
   "metadata": {},
   "outputs": [],
   "source": [
    "import sys\n",
    "sys.path.append('../02_scripts')\n",
    "import myKafka"
   ]
  },
  {
   "cell_type": "markdown",
   "metadata": {},
   "source": [
    "---"
   ]
  },
  {
   "cell_type": "markdown",
   "metadata": {},
   "source": [
    "## 0. Instrucciones <a class=\"anchor\" id=\"readme\">\n",
    "[<font color='#fb7813'>**\\>\\> Volver arriba**</font>](#back)"
   ]
  },
  {
   "cell_type": "markdown",
   "metadata": {},
   "source": [
    "Para la correcta ejecución de este notebook se necesitan los siguientes elementos en funcionamiento.\n",
    "\n",
    "1. Ejecución de Zookeeper mediante el siguiente comando sobre el directorio de Kafka.\n",
    "\n",
    "    ```bin/zookeeper-server-start.sh config/zookeeper.properties```\n",
    "\n",
    "\n",
    "2. Ejecución de Kafka Server mediante el siguiente comando sobre el mismo directorio.\n",
    "\n",
    "    ```bin/kafka-server-start.sh config/server.properties```\n",
    "\n",
    "\n",
    "3. Ejecución del script Kafka producer desde la consola en Python, se ha usado el mismo script proporcionado para la práctica bajo una cola con el *topic* de **test**.\n",
    "    \n",
    "    ```python kafka_producer.py 0.6 1.3 test ../01_data/occupancy_data.csv```\n",
    "\n",
    "4. Lanzar y ejecutar el Jupyter Notebook"
   ]
  },
  {
   "cell_type": "markdown",
   "metadata": {},
   "source": [
    "Por otro lado es importante recordar que la estructura de carpetas debe ser igual que la del repositorio proporcionado en el enlace y contener al menos los siguientes archivos.\n",
    "\n",
    "**01_data:**\n",
    "- occupancy_data.csv\n",
    "\n",
    "**02_scripts:**\n",
    "- \\__init\\__.py\n",
    "- myKafka.py\n",
    "\n",
    "**03_notebooks:**\n",
    "- Practica_SD3_SparkSS.ipynb"
   ]
  },
  {
   "cell_type": "markdown",
   "metadata": {},
   "source": [
    "## 1. Contexto y entorno de Spark <a class=\"anchor\" id=\"context\">\n",
    "[<font color='#fb7813'>**\\>\\> Volver arriba**</font>](#back)"
   ]
  },
  {
   "cell_type": "code",
   "execution_count": 3,
   "metadata": {},
   "outputs": [
    {
     "name": "stdout",
     "output_type": "stream",
     "text": [
      "PYSPARK_SUBMIT_ARGS =  --packages org.apache.spark:spark-sql-kafka-0-10_2.11:2.4.5 pyspark-shell \n",
      "\n",
      "JAVA_HOME =  /usr/lib/jvm/java-1.8.0-openjdk-amd64\n"
     ]
    }
   ],
   "source": [
    "packages = \"org.apache.spark:spark-sql-kafka-0-10_2.11:2.4.5\"\n",
    "os.environ[\"PYSPARK_SUBMIT_ARGS\"] = (\n",
    "    \"--packages {0} pyspark-shell\".format(packages)\n",
    ")\n",
    "\n",
    "print(\"PYSPARK_SUBMIT_ARGS = \",os.environ[\"PYSPARK_SUBMIT_ARGS\"],\"\\n\")\n",
    "print(\"JAVA_HOME = \", os.environ[\"JAVA_HOME\"])"
   ]
  },
  {
   "cell_type": "code",
   "execution_count": 4,
   "metadata": {},
   "outputs": [
    {
     "data": {
      "text/html": [
       "\n",
       "            <div>\n",
       "                <p><b>SparkSession - in-memory</b></p>\n",
       "                \n",
       "        <div>\n",
       "            <p><b>SparkContext</b></p>\n",
       "\n",
       "            <p><a href=\"http://Lenovo:4040\">Spark UI</a></p>\n",
       "\n",
       "            <dl>\n",
       "              <dt>Version</dt>\n",
       "                <dd><code>v2.4.5</code></dd>\n",
       "              <dt>Master</dt>\n",
       "                <dd><code>local[*]</code></dd>\n",
       "              <dt>AppName</dt>\n",
       "                <dd><code>PracticaSD3</code></dd>\n",
       "            </dl>\n",
       "        </div>\n",
       "        \n",
       "            </div>\n",
       "        "
      ],
      "text/plain": [
       "<pyspark.sql.session.SparkSession at 0x7f79b86a1890>"
      ]
     },
     "execution_count": 4,
     "metadata": {},
     "output_type": "execute_result"
    }
   ],
   "source": [
    "# Create SparkContext object (low level)\n",
    "spark = (SparkSession\n",
    "    .builder\n",
    "    .appName(\"PracticaSD3\")\n",
    "    .getOrCreate())\n",
    "\n",
    "spark"
   ]
  },
  {
   "cell_type": "markdown",
   "metadata": {},
   "source": [
    "## 2. Lectura de datos en Batch <a class=\"anchor\" id=\"batch\">\n",
    "[<font color='#fb7813'>**\\>\\> Volver arriba**</font>](#back)"
   ]
  },
  {
   "cell_type": "markdown",
   "metadata": {},
   "source": [
    "### 2.1 Creación del esquema y muestra de los datos"
   ]
  },
  {
   "cell_type": "code",
   "execution_count": 5,
   "metadata": {},
   "outputs": [],
   "source": [
    "custom_schema = StructType([\n",
    "    StructField(\"row\", IntegerType(), True),\n",
    "    StructField(\"date\", TimestampType(), True), \n",
    "    StructField(\"Temperature\", DoubleType(), True),\n",
    "    StructField(\"Humidity\", DoubleType(), True),\n",
    "    StructField(\"Light\", DoubleType(), True),\n",
    "    StructField(\"CO2\", DoubleType(), True),\n",
    "    StructField(\"HumidityRatio\", DoubleType(), True),\n",
    "    StructField(\"Occupancy\", IntegerType(), True) \n",
    "                           ])"
   ]
  },
  {
   "cell_type": "code",
   "execution_count": 6,
   "metadata": {},
   "outputs": [],
   "source": [
    "batch = spark.read.option(\"header\", True).csv('../01_data/occupancy_data.csv', \n",
    "                                                  schema=custom_schema)"
   ]
  },
  {
   "cell_type": "code",
   "execution_count": 7,
   "metadata": {
    "scrolled": true
   },
   "outputs": [
    {
     "name": "stdout",
     "output_type": "stream",
     "text": [
      "+---+-------------------+-----------+--------+-----+------+-------------------+---------+\n",
      "|row|               date|Temperature|Humidity|Light|   CO2|      HumidityRatio|Occupancy|\n",
      "+---+-------------------+-----------+--------+-----+------+-------------------+---------+\n",
      "|  1|2015-02-04 17:51:00|      23.18|  27.272|426.0|721.25|0.00479298817650529|        1|\n",
      "|  2|2015-02-04 17:51:59|      23.15| 27.2675|429.5| 714.0|0.00478344094931065|        1|\n",
      "|  3|2015-02-04 17:53:00|      23.15|  27.245|426.0| 713.5|0.00477946352442199|        1|\n",
      "|  4|2015-02-04 17:54:00|      23.15|    27.2|426.0|708.25|0.00477150882608175|        1|\n",
      "|  5|2015-02-04 17:55:00|       23.1|    27.2|426.0| 704.5|0.00475699293331518|        1|\n",
      "+---+-------------------+-----------+--------+-----+------+-------------------+---------+\n",
      "only showing top 5 rows\n",
      "\n"
     ]
    }
   ],
   "source": [
    "batch.show(5)"
   ]
  },
  {
   "cell_type": "markdown",
   "metadata": {},
   "source": [
    "### 2.2 Comprobación datos nulos"
   ]
  },
  {
   "cell_type": "code",
   "execution_count": 8,
   "metadata": {},
   "outputs": [
    {
     "name": "stdout",
     "output_type": "stream",
     "text": [
      "+---+----+-----------+--------+-----+---+-------------+---------+\n",
      "|row|date|Temperature|Humidity|Light|CO2|HumidityRatio|Occupancy|\n",
      "+---+----+-----------+--------+-----+---+-------------+---------+\n",
      "|  0|   0|          0|       0|    0|  0|            0|        0|\n",
      "+---+----+-----------+--------+-----+---+-------------+---------+\n",
      "\n"
     ]
    }
   ],
   "source": [
    "columns = batch.columns\n",
    "batch.select([fn.count(fn.when(fn.col(colmn).isNull(), colmn))\n",
    "              .alias(colmn) for colmn in columns]).show()\n"
   ]
  },
  {
   "cell_type": "markdown",
   "metadata": {},
   "source": [
    "## 3. Conexión con Kafka <a class=\"anchor\" id=\"kafka\">\n",
    "[<font color='#fb7813'>**\\>\\> Volver arriba**</font>](#back)"
   ]
  },
  {
   "cell_type": "code",
   "execution_count": 9,
   "metadata": {},
   "outputs": [],
   "source": [
    "read_stream = spark\\\n",
    "    .readStream.format(\"kafka\")\\\n",
    "    .option(\"kafka.bootstrap.servers\", \"localhost:9092\")\\\n",
    "    .option(\"subscribe\", \"test\").load()"
   ]
  },
  {
   "cell_type": "code",
   "execution_count": 10,
   "metadata": {},
   "outputs": [
    {
     "name": "stdout",
     "output_type": "stream",
     "text": [
      "root\n",
      " |-- key: binary (nullable = true)\n",
      " |-- value: binary (nullable = true)\n",
      " |-- topic: string (nullable = true)\n",
      " |-- partition: integer (nullable = true)\n",
      " |-- offset: long (nullable = true)\n",
      " |-- timestamp: timestamp (nullable = true)\n",
      " |-- timestampType: integer (nullable = true)\n",
      "\n"
     ]
    }
   ],
   "source": [
    "read_stream.printSchema()"
   ]
  },
  {
   "cell_type": "markdown",
   "metadata": {},
   "source": [
    "## 4. Definición del Stream <a class=\"anchor\" id=\"stream\">\n",
    "[<font color='#fb7813'>**\\>\\> Volver arriba**</font>](#back)"
   ]
  },
  {
   "cell_type": "code",
   "execution_count": 11,
   "metadata": {},
   "outputs": [],
   "source": [
    "df_stream = read_stream\\\n",
    "    .withColumn('array_value',\n",
    "                fn.split(fn.col('value').cast(StringType()), ',')\n",
    "               )"
   ]
  },
  {
   "cell_type": "code",
   "execution_count": 12,
   "metadata": {},
   "outputs": [],
   "source": [
    "# Definimos OrderedDict para leer values en orden\n",
    "schema = OrderedDict()\n",
    "schema[\"row\"] = IntegerType()\n",
    "schema[\"date\"] = TimestampType()\n",
    "schema[\"Temperature\"] = DoubleType()\n",
    "schema[\"Humidity\"] = DoubleType()\n",
    "schema[\"Light\"] = DoubleType()\n",
    "schema[\"CO2\"] = DoubleType()\n",
    "schema[\"HumidityRatio\"] = DoubleType()\n",
    "schema[\"Occupancy\"] = IntegerType()"
   ]
  },
  {
   "cell_type": "code",
   "execution_count": 13,
   "metadata": {},
   "outputs": [],
   "source": [
    "df_stream_schema = myKafka.apply_scheme(df_stream, schema)"
   ]
  },
  {
   "cell_type": "code",
   "execution_count": 14,
   "metadata": {},
   "outputs": [],
   "source": [
    "test_query = (df_stream_schema\n",
    "                .select(*columns)\n",
    "    .writeStream\n",
    "    .format(\"memory\")\n",
    "    .queryName(\"test_query\")\n",
    "    .trigger(processingTime=\"5 seconds\")\n",
    "    .outputMode('append')\n",
    "    .start())"
   ]
  },
  {
   "cell_type": "code",
   "execution_count": 15,
   "metadata": {
    "scrolled": false
   },
   "outputs": [
    {
     "name": "stdout",
     "output_type": "stream",
     "text": [
      "+---+-------------------+-----------+--------+-----+-----+-------------------+---------+\n",
      "|row|               date|Temperature|Humidity|Light|  CO2|      HumidityRatio|Occupancy|\n",
      "+---+-------------------+-----------+--------+-----+-----+-------------------+---------+\n",
      "|647|2015-02-05 04:37:00|      20.89|    24.1|  0.0|445.0|0.00367691564904522|        0|\n",
      "|648|2015-02-05 04:38:00|      20.89|    24.0|  0.0|438.0|0.00366156892375949|        0|\n",
      "|649|2015-02-05 04:38:59|     20.945|    24.0|  0.0|438.5|0.00367404992094876|        0|\n",
      "|650|2015-02-05 04:40:00|       21.0|    24.0|  0.0|440.0|0.00368656839813018|        0|\n",
      "|651|2015-02-05 04:40:59|     20.945|    24.0|  0.0|446.0|0.00367404992094876|        0|\n",
      "+---+-------------------+-----------+--------+-----+-----+-------------------+---------+\n",
      "only showing top 5 rows\n",
      "\n"
     ]
    },
    {
     "data": {
      "text/plain": [
       "8"
      ]
     },
     "execution_count": 15,
     "metadata": {},
     "output_type": "execute_result"
    }
   ],
   "source": [
    "sleep(11)\n",
    "df = spark.sql(\"SELECT * FROM test_query\")\n",
    "df.show(5)\n",
    "df.count()"
   ]
  },
  {
   "cell_type": "code",
   "execution_count": 16,
   "metadata": {},
   "outputs": [],
   "source": [
    "test_query.stop()"
   ]
  },
  {
   "cell_type": "markdown",
   "metadata": {},
   "source": [
    "## 5. Queries <a class=\"anchor\" id=\"queries\">\n",
    "[<font color='#fb7813'>**\\>\\> Volver arriba**</font>](#back)"
   ]
  },
  {
   "cell_type": "markdown",
   "metadata": {},
   "source": [
    "### 5.1 Promedio de valores\n",
    "Calcular el promedio de valores de temperatura, humedad relativa y concentración de CO2 para cada micro-batch, y el promedio de dichos valores desde el arranque de la aplicación."
   ]
  },
  {
   "cell_type": "markdown",
   "metadata": {},
   "source": [
    "**Por Microbatch**"
   ]
  },
  {
   "cell_type": "code",
   "execution_count": 17,
   "metadata": {},
   "outputs": [],
   "source": [
    "columns = [\"Temperature\", \"Humidity\", \"CO2\"]\n",
    "query_1a = (df_stream_schema\n",
    "             .select(*[fn.avg(col).alias(\"avg_\" + col) for col in columns])\n",
    "    .writeStream\n",
    "    .format(\"memory\")\n",
    "    .queryName(\"query1a\")\n",
    "    .trigger(processingTime=\"5 seconds\")\n",
    "    .outputMode(\"update\")\n",
    "    .start())"
   ]
  },
  {
   "cell_type": "code",
   "execution_count": 18,
   "metadata": {},
   "outputs": [
    {
     "name": "stdout",
     "output_type": "stream",
     "text": [
      "+------------------+------------------+------------------+\n",
      "|   avg_Temperature|      avg_Humidity|           avg_CO2|\n",
      "+------------------+------------------+------------------+\n",
      "|              null|              null|              null|\n",
      "|              21.0| 23.79555555555555|446.11111111111114|\n",
      "|20.978611111111107|23.785902777777768|444.59027777777777|\n",
      "+------------------+------------------+------------------+\n",
      "\n"
     ]
    }
   ],
   "source": [
    "sleep(11)\n",
    "df = spark.sql(\"SELECT * FROM query1a\")\n",
    "df.show(5)"
   ]
  },
  {
   "cell_type": "code",
   "execution_count": 19,
   "metadata": {},
   "outputs": [],
   "source": [
    "query_1a.stop()"
   ]
  },
  {
   "cell_type": "markdown",
   "metadata": {},
   "source": [
    "**Desde memoria**"
   ]
  },
  {
   "cell_type": "code",
   "execution_count": 20,
   "metadata": {},
   "outputs": [],
   "source": [
    "query_1b = (df_stream_schema\n",
    "             .select(*[fn.avg(col).alias(\"avg_\" + col) for col in columns])\n",
    "    .writeStream\n",
    "    .format(\"memory\")\n",
    "    .queryName(\"query1b\")\n",
    "    .trigger(processingTime=\"5 seconds\")\n",
    "    .outputMode('update')\n",
    "    .option(\"checkpointLocation\", \"../01_data/checkpoints\")\n",
    "    .start())"
   ]
  },
  {
   "cell_type": "code",
   "execution_count": 21,
   "metadata": {
    "scrolled": false
   },
   "outputs": [
    {
     "name": "stdout",
     "output_type": "stream",
     "text": [
      "+------------------+------------------+-----------------+\n",
      "|   avg_Temperature|      avg_Humidity|          avg_CO2|\n",
      "+------------------+------------------+-----------------+\n",
      "|21.614222185815713|25.646400939274383|572.8330002184363|\n",
      "|21.613438068222635|25.644260528037993|572.6966997599827|\n",
      "| 21.61264966579432|25.642039959313745|572.5574269834352|\n",
      "+------------------+------------------+-----------------+\n",
      "\n"
     ]
    }
   ],
   "source": [
    "sleep(11)\n",
    "df = spark.sql(\"SELECT * FROM query1b\")\n",
    "df.show(5)"
   ]
  },
  {
   "cell_type": "code",
   "execution_count": 22,
   "metadata": {},
   "outputs": [],
   "source": [
    "query_1b.stop()"
   ]
  },
  {
   "cell_type": "markdown",
   "metadata": {},
   "source": [
    "### 5.2 Promedio luminosidad\n",
    "Calcular el promedio de luminosidad en la estancia en ventanas deslizantes de tamaño 45 segundos, con un valor de deslizamiento de 15 segundos entre ventanas consecutivas."
   ]
  },
  {
   "cell_type": "code",
   "execution_count": 23,
   "metadata": {},
   "outputs": [],
   "source": [
    "df_window = (df_stream_schema\n",
    "                .withWatermark(\"date\", \"45 seconds\")\n",
    "                .groupBy(fn.window(\"date\",\n",
    "                                \"45 seconds\",\n",
    "                                \"15 seconds\")\n",
    "                        )\n",
    "                .agg(fn.avg(\"Light\").alias(\"avg_light\"))\n",
    "               )"
   ]
  },
  {
   "cell_type": "code",
   "execution_count": 24,
   "metadata": {},
   "outputs": [],
   "source": [
    "query_2 = (df_window\n",
    "    .writeStream\n",
    "    .format(\"memory\")\n",
    "    .queryName(\"query2\")\n",
    "    .trigger(processingTime='5 seconds')\n",
    "    .outputMode('append')\n",
    "    .start())"
   ]
  },
  {
   "cell_type": "code",
   "execution_count": 25,
   "metadata": {},
   "outputs": [
    {
     "name": "stdout",
     "output_type": "stream",
     "text": [
      "+------------------------------------------+---------+\n",
      "|window                                    |avg_light|\n",
      "+------------------------------------------+---------+\n",
      "|[2015-02-05 05:15:30, 2015-02-05 05:16:15]|0.0      |\n",
      "|[2015-02-05 05:15:00, 2015-02-05 05:15:45]|0.0      |\n",
      "|[2015-02-05 05:14:45, 2015-02-05 05:15:30]|0.0      |\n",
      "|[2015-02-05 05:14:30, 2015-02-05 05:15:15]|0.0      |\n",
      "|[2015-02-05 05:13:45, 2015-02-05 05:14:30]|0.0      |\n",
      "+------------------------------------------+---------+\n",
      "only showing top 5 rows\n",
      "\n"
     ]
    }
   ],
   "source": [
    "sleep(11)\n",
    "df = spark.sql(\"SELECT * FROM query2\")\n",
    "df.orderBy(\"window\", ascending=False).show(5, truncate=False)"
   ]
  },
  {
   "cell_type": "code",
   "execution_count": 26,
   "metadata": {},
   "outputs": [],
   "source": [
    "query_2.stop()"
   ]
  },
  {
   "cell_type": "markdown",
   "metadata": {},
   "source": [
    "### 5.3 Intervalo de muestras\n",
    "Examinando los datos, podemos apreciar que el intervalo entre muestras originales no es exactamente de 1 minuto en muchos casos. Calcular el número de parejas de muestras consecutivas en cada micro-batch entre las cuales el intervalo de separación no es exactamente de\n",
    "1 minuto."
   ]
  },
  {
   "cell_type": "code",
   "execution_count": 27,
   "metadata": {},
   "outputs": [],
   "source": [
    "def get_diff(df, epoch_id):\n",
    "    w = Window.partitionBy().orderBy('date')\n",
    "    df_w = (df.withColumn(\"prev_date\", fn.lag(\"date\").over(w))\n",
    "              .withColumn(\"time_diff\",\n",
    "                        fn.col(\"date\").cast(\"long\") - fn.col(\"prev_date\").cast(\"long\")\n",
    "                       )\n",
    "            .withColumn(\"diff_seconds\",\n",
    "                         fn.col(\"date\").cast(\"long\") - fn.col(\"prev_date\").cast(\"long\"))\n",
    "              .withColumn(\"type\", fn.when(fn.col(\"time_diff\") != 60, fn.lit(\"different_1_minute\"))\n",
    "                                .otherwise(fn.lit(\"1_minute\"))\n",
    "                      )\n",
    "            )\n",
    "    df_group = (df_w.where(fn.col('type') != '1_minute')\n",
    "                    .groupBy('type')\n",
    "                    .count())\n",
    "    df_group.show()"
   ]
  },
  {
   "cell_type": "code",
   "execution_count": 28,
   "metadata": {
    "scrolled": false
   },
   "outputs": [
    {
     "name": "stdout",
     "output_type": "stream",
     "text": [
      "+----+-----+\n",
      "|type|count|\n",
      "+----+-----+\n",
      "+----+-----+\n",
      "\n",
      "+----+-----+\n",
      "|type|count|\n",
      "+----+-----+\n",
      "+----+-----+\n",
      "\n",
      "+------------------+-----+\n",
      "|              type|count|\n",
      "+------------------+-----+\n",
      "|different_1_minute|    2|\n",
      "+------------------+-----+\n",
      "\n",
      "+------------------+-----+\n",
      "|              type|count|\n",
      "+------------------+-----+\n",
      "|different_1_minute|    1|\n",
      "+------------------+-----+\n",
      "\n"
     ]
    }
   ],
   "source": [
    "query_3 = (df_stream_schema\n",
    "    .writeStream\n",
    "    .format(\"memory\")\n",
    "    .foreachBatch(get_diff)\n",
    "    .trigger(processingTime=\"5 seconds\")\n",
    "    .start())\n",
    "sleep(12)"
   ]
  },
  {
   "cell_type": "code",
   "execution_count": 29,
   "metadata": {
    "scrolled": false
   },
   "outputs": [],
   "source": [
    "query_3.stop()"
   ]
  },
  {
   "cell_type": "code",
   "execution_count": 30,
   "metadata": {},
   "outputs": [],
   "source": [
    "spark.stop()"
   ]
  }
 ],
 "metadata": {
  "kernelspec": {
   "display_name": "Python 3",
   "language": "python",
   "name": "python3"
  },
  "language_info": {
   "codemirror_mode": {
    "name": "ipython",
    "version": 3
   },
   "file_extension": ".py",
   "mimetype": "text/x-python",
   "name": "python",
   "nbconvert_exporter": "python",
   "pygments_lexer": "ipython3",
   "version": "3.7.7"
  }
 },
 "nbformat": 4,
 "nbformat_minor": 4
}
